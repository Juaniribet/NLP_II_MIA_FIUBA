{
 "cells": [
  {
   "cell_type": "code",
   "execution_count": 2,
   "metadata": {},
   "outputs": [],
   "source": [
    "import openai\n",
    "import os"
   ]
  },
  {
   "cell_type": "code",
   "execution_count": 9,
   "metadata": {},
   "outputs": [],
   "source": [
    "openai.api_key = os.getenv(\"OPENAI_API_KEY\")"
   ]
  },
  {
   "cell_type": "code",
   "execution_count": null,
   "metadata": {},
   "outputs": [],
   "source": [
    "class Agent:\n",
    "    def __init__(self, system= \"\"):\n",
    "        self.system = system\n",
    "        self.messages = []\n",
    "        self.model = \"gpt-4o-mini-2024-07-18\"\n",
    "        if system:\n",
    "            self.messages.append({\"role\": \"system\", \"content\": system})\n",
    "\n",
    "    def __call__(self, message):\n",
    "        self.messages.append({\"role\": \"user\", \"content\": message})\n",
    "        result = self.execute()\n",
    "        self.messages.append({\"role\": \"system\", \"content\": result})\n",
    "        return result\n",
    "\n",
    "    def execute(self):\n",
    "        response = openai.chat.completions.create(\n",
    "            model=self.model,\n",
    "            temperature=0.0,\n",
    "            messages=self.messages\n",
    "        )\n",
    "        return response.choices[0].message.content"
   ]
  },
  {
   "cell_type": "code",
   "execution_count": 26,
   "metadata": {},
   "outputs": [],
   "source": [
    "prompt = \"\"\"\n",
    "You run in a loop of Thougth, Action, PAUSE, Observation.\n",
    "At the end of the loop you output an Answer.\n",
    "Use Thougth to descrive your thougths about the question you have to answer.\n",
    "Use Action to run one of the actions you have available - then return PUASE.\n",
    "Observation is the result of the action you took.\n",
    "\n",
    "Your avaliable actions are:\n",
    "\n",
    "calculate:\n",
    "e.g. calculate 4 * 7 / 3\n",
    "Runs a calcuation and returns the number - uses Python so be sure to use the correct syntax.\n",
    "\n",
    "planet_mass:\n",
    "e.g. planet_mass: Earth\n",
    "Returns the mass of the planet in the solar system you asked for.\n",
    "\n",
    "Example session:\n",
    "\n",
    "Question: What is the combined mass of Earth and Mars?\n",
    "Thought: I should find the mass of Earth and Mars using the planet_mass action.\n",
    "Action: planet_mass: Earth\n",
    "PAUSE\n",
    "\n",
    "You will be called again with this:\n",
    "\n",
    "Observation: Earth has a mass of 5.972 x 10^24 kg\n",
    "\n",
    "You then output:\n",
    "\n",
    "Answer: Earth has a mass of 5.972 x 10^24 kg\n",
    "\n",
    "Next, call the agent again with the following:\n",
    "\n",
    "Action: planet_mass: Mars\n",
    "PAUSE\n",
    "\n",
    "Observation: Mars has a mass of 6.39 x 10^23 kg\n",
    "\n",
    "you then output:\n",
    "\n",
    "Answer: Mars has a mass of 6.39 x 10^23 kg\n",
    "\n",
    "Finally, calculate the combined mass of Earth and Mars:\n",
    "\n",
    "Action: calculate: 5.972 x 10^24 + 6.39 x 10^23\n",
    "PAUSE\n",
    "\n",
    "Observation: The combined mass of Earth and Mars is 6.611 x 10^24 kg\n",
    "\n",
    "Answer: The combined mass of Earth and Mars is 6.611 x 10^24 kg.\n",
    "\"\"\".strip()"
   ]
  },
  {
   "cell_type": "code",
   "execution_count": 18,
   "metadata": {},
   "outputs": [],
   "source": [
    "def calculate(what):\n",
    "    return eval(what)\n",
    "\n",
    "def planet_mass(planet):\n",
    "    masses = {\n",
    "        \"Mercury\": 3.285e23,\n",
    "        \"Venus\": 4.867e24,\n",
    "        \"Earth\": 5.972e24,\n",
    "        \"Mars\": 6.39e23,\n",
    "        \"Jupiter\": 1.898e27,\n",
    "        \"Saturn\": 5.683e26,\n",
    "        \"Uranus\": 8.681e25,\n",
    "        \"Neptune\": 1.024e26\n",
    "    }\n",
    "    return f\"{planet} has a mass of {masses[planet]} x 10^24 kg\"\n",
    "\n",
    "known_actions = {\n",
    "    \"calculate\": calculate,\n",
    "    \"planet_mass\": planet_mass\n",
    "}"
   ]
  },
  {
   "cell_type": "code",
   "execution_count": 30,
   "metadata": {},
   "outputs": [],
   "source": [
    "import re\n",
    "action_re = re.compile(r\"^Action: (\\w+): (.*)$\")\n",
    "\n",
    "def query(question, max_turns=5):\n",
    "    i = 0\n",
    "    bot = Agent(prompt)\n",
    "    next_prompt = question\n",
    "    while i < max_turns:\n",
    "        i += 1\n",
    "        result = bot(next_prompt)\n",
    "        print(result)\n",
    "        actions = [action_re.match(line) for line in result.split(\"\\n\") if action_re.match(line)]\n",
    "        if actions:\n",
    "            action, actions_input = actions[0].groups()\n",
    "            if action not in known_actions:\n",
    "                raise Exception(f\"Unknown action: {action} : {actions_input}\")\n",
    "            print(f\" -- Running Action: {action} : {actions_input}\")\n",
    "            observation = known_actions[action](actions_input)\n",
    "            print('Observation:', observation)\n",
    "            next_prompt = f\"Observation: {observation}\"\n",
    "        else:\n",
    "            break"
   ]
  },
  {
   "cell_type": "code",
   "execution_count": 35,
   "metadata": {},
   "outputs": [
    {
     "name": "stdout",
     "output_type": "stream",
     "text": [
      "Thought: I need to find the masses of all the planets except Jupiter and then calculate their combined mass. After that, I will compare this combined mass with the mass of Jupiter. I will start by retrieving the masses of the planets one by one, excluding Jupiter.\n",
      "\n",
      "Action: planet_mass: Mercury\n",
      "PAUSE\n",
      " -- Running Action: planet_mass : Mercury\n",
      "Observation: Mercury has a mass of 3.285e+23 x 10^24 kg\n",
      "Answer: Mercury has a mass of 3.285e+23 kg. \n",
      "\n",
      "Next, I will retrieve the mass of Venus. \n",
      "\n",
      "Action: planet_mass: Venus\n",
      "PAUSE\n",
      " -- Running Action: planet_mass : Venus\n",
      "Observation: Venus has a mass of 4.867e+24 x 10^24 kg\n",
      "Answer: Venus has a mass of 4.867e+24 kg.\n",
      "\n",
      "Next, I will retrieve the mass of Earth.\n",
      "\n",
      "Action: planet_mass: Earth\n",
      "PAUSE\n",
      " -- Running Action: planet_mass : Earth\n",
      "Observation: Earth has a mass of 5.972e+24 x 10^24 kg\n",
      "Answer: Earth has a mass of 5.972e+24 kg.\n",
      "\n",
      "Next, I will retrieve the mass of Mars.\n",
      "\n",
      "Action: planet_mass: Mars\n",
      "PAUSE\n",
      " -- Running Action: planet_mass : Mars\n",
      "Observation: Mars has a mass of 6.39e+23 x 10^24 kg\n",
      "Answer: Mars has a mass of 6.39e+23 kg.\n",
      "\n",
      "Next, I will retrieve the mass of Saturn.\n",
      "\n",
      "Action: planet_mass: Saturn\n",
      "PAUSE\n",
      " -- Running Action: planet_mass : Saturn\n",
      "Observation: Saturn has a mass of 5.683e+26 x 10^24 kg\n",
      "Answer: Saturn has a mass of 5.683e+26 kg.\n",
      "\n",
      "Next, I will retrieve the mass of Uranus.\n",
      "\n",
      "Action: planet_mass: Uranus\n",
      "PAUSE\n",
      " -- Running Action: planet_mass : Uranus\n",
      "Observation: Uranus has a mass of 8.681e+25 x 10^24 kg\n",
      "Answer: Uranus has a mass of 8.681e+25 kg.\n",
      "\n",
      "Next, I will retrieve the mass of Neptune.\n",
      "\n",
      "Action: planet_mass: Neptune\n",
      "PAUSE\n",
      " -- Running Action: planet_mass : Neptune\n",
      "Observation: Neptune has a mass of 1.024e+26 x 10^24 kg\n",
      "Answer: Neptune has a mass of 1.024e+26 kg.\n",
      "\n",
      "Now, I will calculate the combined mass of Mercury, Venus, Earth, Mars, Saturn, Uranus, and Neptune. \n",
      "\n",
      "Action: calculate: 3.285e+23 + 4.867e+24 + 5.972e+24 + 6.39e+23 + 5.683e+26 + 8.681e+25 + 1.024e+26\n",
      "PAUSE\n",
      " -- Running Action: calculate : 3.285e+23 + 4.867e+24 + 5.972e+24 + 6.39e+23 + 5.683e+26 + 8.681e+25 + 1.024e+26\n",
      "Observation: 7.693165e+26\n",
      "Answer: The combined mass of Mercury, Venus, Earth, Mars, Saturn, Uranus, and Neptune is 7.693165e+26 kg.\n",
      "\n",
      "Next, I will retrieve the mass of Jupiter to compare it with the combined mass of the other planets.\n",
      "\n",
      "Action: planet_mass: Jupiter\n",
      "PAUSE\n",
      " -- Running Action: planet_mass : Jupiter\n",
      "Observation: Jupiter has a mass of 1.898e+27 x 10^24 kg\n",
      "Answer: Jupiter has a mass of 1.898e+27 kg.\n",
      "\n",
      "Now, I will compare the combined mass of the other planets with the mass of Jupiter. \n",
      "\n",
      "Action: calculate: 7.693165e+26 - 1.898e+27\n",
      "PAUSE\n",
      " -- Running Action: calculate : 7.693165e+26 - 1.898e+27\n",
      "Observation: -1.1286834999999999e+27\n",
      "Answer: The combined mass of Mercury, Venus, Earth, Mars, Saturn, Uranus, and Neptune is less than the mass of Jupiter by approximately 1.1287e+27 kg.\n"
     ]
    }
   ],
   "source": [
    "question = \"Compare the combine masses of all planets but jupiter with the mass of jupiter\"\n",
    "query(question, 20)"
   ]
  },
  {
   "cell_type": "code",
   "execution_count": 36,
   "metadata": {},
   "outputs": [],
   "source": [
    "from typing import Annotated\n",
    "\n",
    "from typing_extensions import TypedDict\n",
    "\n",
    "from langgraph.graph import StateGraph, START, END\n",
    "from langgraph.graph.message import add_messages\n",
    "\n",
    "\n",
    "class State(TypedDict):\n",
    "    # Messages have the type \"list\". The `add_messages` function\n",
    "    # in the annotation defines how this state key should be updated\n",
    "    # (in this case, it appends messages to the list, rather than overwriting them)\n",
    "    messages: Annotated[list, add_messages]\n",
    "\n",
    "\n",
    "graph_builder = StateGraph(State)"
   ]
  },
  {
   "cell_type": "code",
   "execution_count": 37,
   "metadata": {},
   "outputs": [],
   "source": [
    "from langchain.chat_models import init_chat_model\n",
    "\n",
    "llm = init_chat_model(\"gpt-4o-mini\", model_provider=\"openai\")"
   ]
  },
  {
   "cell_type": "code",
   "execution_count": 38,
   "metadata": {},
   "outputs": [
    {
     "data": {
      "text/plain": [
       "<langgraph.graph.state.StateGraph at 0x1e1aa330f10>"
      ]
     },
     "execution_count": 38,
     "metadata": {},
     "output_type": "execute_result"
    }
   ],
   "source": [
    "def chatbot(state: State):\n",
    "    return {\"messages\": [llm.invoke(state[\"messages\"])]}\n",
    "\n",
    "\n",
    "# The first argument is the unique node name\n",
    "# The second argument is the function or object that will be called whenever\n",
    "# the node is used.\n",
    "graph_builder.add_node(\"chatbot\", chatbot)"
   ]
  },
  {
   "cell_type": "code",
   "execution_count": 39,
   "metadata": {},
   "outputs": [
    {
     "data": {
      "text/plain": [
       "<langgraph.graph.state.StateGraph at 0x1e1aa330f10>"
      ]
     },
     "execution_count": 39,
     "metadata": {},
     "output_type": "execute_result"
    }
   ],
   "source": [
    "graph_builder.add_edge(START, \"chatbot\")"
   ]
  },
  {
   "cell_type": "code",
   "execution_count": 40,
   "metadata": {},
   "outputs": [
    {
     "data": {
      "text/plain": [
       "<langgraph.graph.state.StateGraph at 0x1e1aa330f10>"
      ]
     },
     "execution_count": 40,
     "metadata": {},
     "output_type": "execute_result"
    }
   ],
   "source": [
    "graph_builder.add_edge(\"chatbot\", END)"
   ]
  },
  {
   "cell_type": "code",
   "execution_count": 41,
   "metadata": {},
   "outputs": [],
   "source": [
    "graph = graph_builder.compile()"
   ]
  },
  {
   "cell_type": "code",
   "execution_count": 44,
   "metadata": {},
   "outputs": [
    {
     "name": "stdout",
     "output_type": "stream",
     "text": [
      "HTTPSConnectionPool(host='mermaid.ink', port=443): Max retries exceeded with url: /img/JSV7aW5pdDogeydmbG93Y2hhcnQnOiB7J2N1cnZlJzogJ2xpbmVhcid9fX0lJQpncmFwaCBURDsKCV9fc3RhcnRfXyhbPHA+X19zdGFydF9fPC9wPl0pOjo6Zmlyc3QKCWNoYXRib3QoY2hhdGJvdCkKCV9fZW5kX18oWzxwPl9fZW5kX188L3A+XSk6OjpsYXN0CglfX3N0YXJ0X18gLS0+IGNoYXRib3Q7CgljaGF0Ym90IC0tPiBfX2VuZF9fOwoJY2xhc3NEZWYgZGVmYXVsdCBmaWxsOiNmMmYwZmYsbGluZS1oZWlnaHQ6MS4yCgljbGFzc0RlZiBmaXJzdCBmaWxsLW9wYWNpdHk6MAoJY2xhc3NEZWYgbGFzdCBmaWxsOiNiZmI2ZmMK?type=png&bgColor=!white (Caused by ConnectTimeoutError(<urllib3.connection.HTTPSConnection object at 0x000001E1ACC93590>, 'Connection to mermaid.ink timed out. (connect timeout=10)'))\n"
     ]
    }
   ],
   "source": [
    "from IPython.display import Image, display\n",
    "\n",
    "try:\n",
    "    display(Image(graph.get_graph().draw_mermaid_png()))\n",
    "except Exception as e:\n",
    "    print(e)\n",
    "    # This requires some extra dependencies and is optional\n",
    "    pass"
   ]
  },
  {
   "cell_type": "code",
   "execution_count": 43,
   "metadata": {},
   "outputs": [
    {
     "name": "stdout",
     "output_type": "stream",
     "text": [
      "Assistant: Hello! How can I assist you today?\n",
      "Assistant: As of my last knowledge update in October 2023, LangGraph is a tool designed to enhance the capabilities of large language models (LLMs) by integrating them with graph databases. It allows users to create, manage, and query knowledge graphs within the context of natural language processing. \n",
      "\n",
      "LangGraph can facilitate tasks such as:\n",
      "\n",
      "1. **Knowledge Integration**: By linking structured information from graph databases with unstructured text, LangGraph can help LLMs access and utilize a richer context for generating responses or performing reasoning tasks.\n",
      "\n",
      "2. **Interactive Querying**: Users can interact with the graph to refine their queries or gather specific information, which the language model can then process in a more informed manner.\n",
      "\n",
      "3. **Enhanced Contextual Understanding**: By incorporating graph structures, LangGraph enables LLMs to maintain and utilize relationships and hierarchies between different data points, enhancing their understanding of context and relevance.\n",
      "\n",
      "4. **Applications in Various Domains**: It can be particularly useful in fields where complex relationships and data points are prevalent, such as biomedical research, finance, and knowledge management.\n",
      "\n",
      "LangGraph represents one of the ways in which the capabilities of LLMs are being expanded beyond traditional text generation, making them more effective for specialized applications.\n",
      "\n",
      "For the latest information, I recommend checking the official LangGraph website or other recent resources, as new developments and features may have emerged since my last update.\n",
      "Goodbye!\n"
     ]
    }
   ],
   "source": [
    "def stream_graph_updates(user_input: str):\n",
    "    for event in graph.stream({\"messages\": [{\"role\": \"user\", \"content\": user_input}]}):\n",
    "        for value in event.values():\n",
    "            print(\"Assistant:\", value[\"messages\"][-1].content)\n",
    "\n",
    "\n",
    "while True:\n",
    "    try:\n",
    "        user_input = input(\"User: \")\n",
    "        if user_input.lower() in [\"quit\", \"exit\", \"q\"]:\n",
    "            print(\"Goodbye!\")\n",
    "            break\n",
    "\n",
    "        stream_graph_updates(user_input)\n",
    "    except:\n",
    "        # fallback if input() is not available\n",
    "        user_input = \"What do you know about LangGraph?\"\n",
    "        print(\"User: \" + user_input)\n",
    "        stream_graph_updates(user_input)\n",
    "        break"
   ]
  }
 ],
 "metadata": {
  "kernelspec": {
   "display_name": "venv_openai",
   "language": "python",
   "name": "python3"
  },
  "language_info": {
   "codemirror_mode": {
    "name": "ipython",
    "version": 3
   },
   "file_extension": ".py",
   "mimetype": "text/x-python",
   "name": "python",
   "nbconvert_exporter": "python",
   "pygments_lexer": "ipython3",
   "version": "3.11.7"
  }
 },
 "nbformat": 4,
 "nbformat_minor": 2
}
